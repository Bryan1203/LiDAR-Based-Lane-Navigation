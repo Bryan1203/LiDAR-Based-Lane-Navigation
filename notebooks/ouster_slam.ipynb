{
 "cells": [
  {
   "cell_type": "code",
   "execution_count": null,
   "metadata": {},
   "outputs": [
    {
     "name": "stderr",
     "output_type": "stream",
     "text": [
      "INFO:root:Kiss-ICP voxel map size is 1 m\n"
     ]
    },
    {
     "name": "stdout",
     "output_type": "stream",
     "text": [
      "loading metadata from ['/media/kevin/X9 Pro/484_final_project/ouster_data/raw_pcap/2024128_1208_OS-1-128_122344001164.json']\n",
      "1024\n",
      "loading metadata from ['/media/kevin/X9 Pro/484_final_project/ouster_data/raw_pcap/2024128_1208_OS-1-128_122344001164.json']\n",
      "Processed frame 0/820\n",
      "Processed frame 10/820\n",
      "Processed frame 20/820\n",
      "Processed frame 30/820\n",
      "Processed frame 40/820\n",
      "Processed frame 50/820\n",
      "Processed frame 60/820\n",
      "Processed frame 70/820\n",
      "Processed frame 80/820\n",
      "Processed frame 90/820\n",
      "Processed frame 100/820\n",
      "Processed frame 110/820\n",
      "Processed frame 120/820\n",
      "Processed frame 130/820\n",
      "Processed frame 140/820\n",
      "Processed frame 150/820\n",
      "Processed frame 160/820\n",
      "Processed frame 170/820\n",
      "Processed frame 180/820\n",
      "Processed frame 190/820\n",
      "Processed frame 200/820\n",
      "Processed frame 210/820\n",
      "Processed frame 220/820\n",
      "Processed frame 230/820\n",
      "Processed frame 240/820\n",
      "Processed frame 250/820\n",
      "Processed frame 260/820\n",
      "Processed frame 270/820\n",
      "Processed frame 280/820\n",
      "Processed frame 290/820\n",
      "Processed frame 300/820\n",
      "Processed frame 310/820\n",
      "Processed frame 320/820\n",
      "Processed frame 330/820\n",
      "Processed frame 340/820\n",
      "Processed frame 350/820\n",
      "Processed frame 360/820\n",
      "Processed frame 370/820\n",
      "Processed frame 380/820\n",
      "Processed frame 390/820\n",
      "Processed frame 400/820\n",
      "Processed frame 410/820\n",
      "Processed frame 420/820\n",
      "Processed frame 430/820\n",
      "Processed frame 440/820\n",
      "Processed frame 450/820\n",
      "Processed frame 460/820\n",
      "Processed frame 470/820\n",
      "Processed frame 480/820\n",
      "Processed frame 490/820\n",
      "Processed frame 500/820\n",
      "Processed frame 510/820\n",
      "Processed frame 520/820\n",
      "Processed frame 530/820\n",
      "Processed frame 540/820\n",
      "Processed frame 550/820\n",
      "Processed frame 560/820\n",
      "Processed frame 570/820\n",
      "Processed frame 580/820\n",
      "Processed frame 590/820\n",
      "Processed frame 600/820\n",
      "Processed frame 610/820\n",
      "Processed frame 620/820\n",
      "Processed frame 630/820\n",
      "Processed frame 640/820\n",
      "Processed frame 650/820\n",
      "Processed frame 660/820\n",
      "Processed frame 670/820\n",
      "Processed frame 680/820\n",
      "Processed frame 690/820\n",
      "Processed frame 700/820\n",
      "Processed frame 710/820\n",
      "Processed frame 720/820\n",
      "Processed frame 730/820\n",
      "Processed frame 740/820\n",
      "Processed frame 750/820\n",
      "Processed frame 760/820\n",
      "Processed frame 770/820\n",
      "Processed frame 780/820\n",
      "Processed frame 790/820\n",
      "Processed frame 800/820\n",
      "Processed frame 810/820\n"
     ]
    },
    {
     "ename": "",
     "evalue": "",
     "output_type": "error",
     "traceback": [
      "\u001b[1;31mThe Kernel crashed while executing code in the current cell or a previous cell. \n",
      "\u001b[1;31mPlease review the code in the cell(s) to identify a possible cause of the failure. \n",
      "\u001b[1;31mClick <a href='https://aka.ms/vscodeJupyterKernelCrash'>here</a> for more info. \n",
      "\u001b[1;31mView Jupyter <a href='command:jupyter.viewOutput'>log</a> for further details."
     ]
    }
   ],
   "source": [
    "from ouster.sdk import open_source\n",
    "from ouster.sdk.mapping.slam import KissBackend\n",
    "import ouster.sdk.client as client\n",
    "import numpy as np\n",
    "\n",
    "# Open the PCAP file\n",
    "source_file_path = \"/media/kevin/X9 Pro/484_final_project/ouster_data/raw_pcap/2024128_1208_OS-1-128_122344001164.pcap\"\n",
    "data_source = open_source(source_file_path, sensor_idx=-1)\n",
    "\n",
    "# Initialize SLAM\n",
    "slam = KissBackend(data_source.metadata, max_range=75, min_range=1, voxel_size=1.0)\n",
    "\n",
    "# Create xyz lookup table\n",
    "xyz_lut = client.XYZLut(data_source.metadata[0])\n",
    "\n",
    "# Initialize parameters\n",
    "n_channels = data_source.metadata[0].format.pixels_per_column\n",
    "n_points = data_source.metadata[0].format.columns_per_frame\n",
    "print(n_points)\n",
    "n_attributes = 7\n",
    "\n",
    "# Count frames and reinitialize\n",
    "frame_count = sum(1 for _ in data_source)\n",
    "data_source = open_source(source_file_path, sensor_idx=-1)\n",
    "\n",
    "# Initialize output arrays for both global and local coordinates\n",
    "lidar_data_global = np.zeros((frame_count, n_channels, n_points, n_attributes))\n",
    "lidar_data_local = np.zeros((frame_count, n_channels, n_points, n_attributes))\n",
    "\n",
    "# Process each frame\n",
    "for frame_idx, scans in enumerate(data_source):\n",
    "    # Update SLAM\n",
    "    scans_w_poses = slam.update(scans)\n",
    "    if not scans_w_poses:\n",
    "        continue\n",
    "    \n",
    "    scan = scans_w_poses[0]\n",
    "    \n",
    "    # Get xyz points in sensor frame\n",
    "    xyz_points = xyz_lut(scan)  # (H x W x 3)\n",
    "    \n",
    "    # Get poses from SLAM for global coordinates\n",
    "    poses = scan.pose  # List of 1024 poses (one per column)\n",
    "    \n",
    "    # Transform points using SLAM poses\n",
    "    xyz_global = np.zeros_like(xyz_points)\n",
    "    for col in range(xyz_points.shape[1]):\n",
    "        pose = poses[col]  # Get pose for this column\n",
    "        points = xyz_points[:, col, :]  # Get points for this column (H x 3)\n",
    "        # Apply transformation: R * points + t\n",
    "        xyz_global[:, col, :] = (pose[:3, :3] @ points.T).T + pose[:3, 3]\n",
    "    \n",
    "    # Get other fields\n",
    "    ranges = scan.field(client.ChanField.RANGE)\n",
    "    reflectivity = scan.field(client.ChanField.REFLECTIVITY)\n",
    "    signal = scan.field(client.ChanField.SIGNAL)\n",
    "    near_ir = scan.field(client.ChanField.NEAR_IR)\n",
    "    \n",
    "    # # Store data for global coordinates\n",
    "    lidar_data_global[frame_idx, :, :, 0:3] = xyz_global  # Global coordinates from SLAM\n",
    "    lidar_data_global[frame_idx, :, :, 3] = reflectivity\n",
    "    lidar_data_global[frame_idx, :, :, 4] = ranges\n",
    "    lidar_data_global[frame_idx, :, :, 5] = signal\n",
    "    lidar_data_global[frame_idx, :, :, 6] = near_ir\n",
    "    \n",
    "    # Store data for local coordinates\n",
    "    lidar_data_local[frame_idx, :, :, 0:3] = xyz_points  # Local coordinates without transformation\n",
    "    lidar_data_local[frame_idx, :, :, 3] = reflectivity\n",
    "    lidar_data_local[frame_idx, :, :, 4] = ranges\n",
    "    lidar_data_local[frame_idx, :, :, 5] = signal\n",
    "    lidar_data_local[frame_idx, :, :, 6] = near_ir\n",
    "    \n",
    "    if frame_idx % 10 == 0:\n",
    "        print(f\"Processed frame {frame_idx}/{frame_count}\")\n",
    "\n",
    "# Save both arrays\n",
    "# np.save(\"slam07_mapping_global.npy\", lidar_data_global)\n",
    "np.save(\"/media/kevin/X9 Pro/484_final_project/processed_point_cloud/slam11_mapping_global.npy\", lidar_data_global)\n",
    "np.save(\"/media/kevin/X9 Pro/484_final_project/processed_point_cloud/slam11_mapping_local.npy\", lidar_data_local)"
   ]
  },
  {
   "cell_type": "code",
   "execution_count": 2,
   "metadata": {},
   "outputs": [
    {
     "data": {
      "text/plain": [
       "(585, 128, 2048, 7)"
      ]
     },
     "execution_count": 2,
     "metadata": {},
     "output_type": "execute_result"
    }
   ],
   "source": [
    "lidar_data_local.shape"
   ]
  },
  {
   "cell_type": "code",
   "execution_count": 4,
   "metadata": {},
   "outputs": [
    {
     "name": "stdout",
     "output_type": "stream",
     "text": [
      "loading metadata from ['D:\\\\484_final_project\\\\ouster_data\\\\raw_pcap\\\\20241116_0851_OS-1-128_122344001164.json']\n"
     ]
    }
   ],
   "source": [
    "source_file_path = r\"D:\\484_final_project\\ouster_data\\raw_pcap\\20241116_0851_OS-1-128_122344001164.pcap\"\n",
    "data_source = open_source(source_file_path, sensor_idx=-1)"
   ]
  },
  {
   "cell_type": "code",
   "execution_count": 7,
   "metadata": {},
   "outputs": [
    {
     "ename": "TypeError",
     "evalue": "'ouster.sdk._bindings.client.SensorInfo' object is not iterable",
     "output_type": "error",
     "traceback": [
      "\u001b[1;31m---------------------------------------------------------------------------\u001b[0m",
      "\u001b[1;31mTypeError\u001b[0m                                 Traceback (most recent call last)",
      "Cell \u001b[1;32mIn[7], line 1\u001b[0m\n\u001b[1;32m----> 1\u001b[0m \u001b[38;5;28;01mfor\u001b[39;00m info \u001b[38;5;129;01min\u001b[39;00m data_source\u001b[38;5;241m.\u001b[39mmetadata[\u001b[38;5;241m0\u001b[39m]:\n\u001b[0;32m      2\u001b[0m     \u001b[38;5;28mprint\u001b[39m(info)\n",
      "\u001b[1;31mTypeError\u001b[0m: 'ouster.sdk._bindings.client.SensorInfo' object is not iterable"
     ]
    }
   ],
   "source": [
    "for info in data_source.metadata[0]:\n",
    "    print(info)"
   ]
  }
 ],
 "metadata": {
  "kernelspec": {
   "display_name": "pointcept",
   "language": "python",
   "name": "python3"
  },
  "language_info": {
   "codemirror_mode": {
    "name": "ipython",
    "version": 3
   },
   "file_extension": ".py",
   "mimetype": "text/x-python",
   "name": "python",
   "nbconvert_exporter": "python",
   "pygments_lexer": "ipython3",
   "version": "3.8.20"
  }
 },
 "nbformat": 4,
 "nbformat_minor": 2
}
