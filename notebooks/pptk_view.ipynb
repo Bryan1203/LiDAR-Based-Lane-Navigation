{
 "cells": [
  {
   "cell_type": "code",
   "execution_count": 1,
   "metadata": {},
   "outputs": [],
   "source": [
    "import pptk\n",
    "import numpy as np"
   ]
  },
  {
   "cell_type": "code",
   "execution_count": 2,
   "metadata": {},
   "outputs": [
    {
     "name": "stdout",
     "output_type": "stream",
     "text": [
      "Collecting pptk\n",
      "  Using cached pptk-0.1.0-cp37-none-manylinux1_x86_64.whl (24.8 MB)\n",
      "Collecting numpy\n",
      "  Using cached numpy-1.21.6-cp37-cp37m-manylinux_2_12_x86_64.manylinux2010_x86_64.whl (15.7 MB)\n",
      "Installing collected packages: numpy, pptk\n",
      "Successfully installed numpy-1.21.6 pptk-0.1.0\n"
     ]
    }
   ],
   "source": [
    "!pip3 install pptk"
   ]
  },
  {
   "cell_type": "code",
   "execution_count": 2,
   "metadata": {},
   "outputs": [
    {
     "name": "stdout",
     "output_type": "stream",
     "text": [
      "(133, 49152, 3)\n",
      "(133, 49152)\n",
      "80.0\n"
     ]
    }
   ],
   "source": [
    "points = np.load('all_points.npy')\n",
    "xyz = points[:, :, :3]\n",
    "intensity = points[:,:, 3]\n",
    "print(xyz.shape)\n",
    "print(intensity.shape)\n",
    "print(intensity[0][1])"
   ]
  },
  {
   "cell_type": "code",
   "execution_count": 6,
   "metadata": {},
   "outputs": [
    {
     "data": {
      "text/plain": [
       "(133, 49152)"
      ]
     },
     "execution_count": 6,
     "metadata": {},
     "output_type": "execute_result"
    }
   ],
   "source": [
    "intensity.shape"
   ]
  },
  {
   "cell_type": "code",
   "execution_count": 18,
   "metadata": {},
   "outputs": [
    {
     "name": "stdout",
     "output_type": "stream",
     "text": [
      "[[-24.192972    -5.2603574   -2.9673226 ]\n",
      " [-24.160254    -5.071702    -2.9599984 ]\n",
      " [-24.147738    -4.8879514   -2.9550135 ]\n",
      " ...\n",
      " [ -1.8710282   -0.6439445   -2.3149776 ]\n",
      " [ -1.8759217   -0.6057642   -2.313563  ]\n",
      " [ -1.8833004   -0.56817424  -2.31325   ]]\n"
     ]
    }
   ],
   "source": [
    "np.unique(intensity[0])\n",
    "print(xyz[1])"
   ]
  },
  {
   "cell_type": "code",
   "execution_count": 11,
   "metadata": {},
   "outputs": [],
   "source": [
    "u = pptk.viewer(xyz[50:75])\n",
    "u.attributes(intensity[50:75].flatten())\n",
    "u.set(point_size=0.008)\n",
    "u.color_map('jet', scale=[0, 100])"
   ]
  },
  {
   "cell_type": "code",
   "execution_count": 53,
   "metadata": {},
   "outputs": [],
   "source": []
  }
 ],
 "metadata": {
  "kernelspec": {
   "display_name": "pptk_env",
   "language": "python",
   "name": "python3"
  },
  "language_info": {
   "codemirror_mode": {
    "name": "ipython",
    "version": 3
   },
   "file_extension": ".py",
   "mimetype": "text/x-python",
   "name": "python",
   "nbconvert_exporter": "python",
   "pygments_lexer": "ipython3",
   "version": "3.7.12"
  }
 },
 "nbformat": 4,
 "nbformat_minor": 2
}
