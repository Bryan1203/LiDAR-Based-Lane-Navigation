{
 "cells": [
  {
   "cell_type": "code",
   "execution_count": 4,
   "metadata": {},
   "outputs": [
    {
     "name": "stdout",
     "output_type": "stream",
     "text": [
      "[INFO]  Data folder /media/kevin/X9 Pro/484_final_project/rosbags/2024-11-29-16-45-01-kiss already exists. Not creating.\n",
      "                           Topics                                     Types  \\\n",
      "0                    /diagnostics           diagnostic_msgs/DiagnosticArray   \n",
      "1                   /joint_states                    sensor_msgs/JointState   \n",
      "2                     /kiss/frame                   sensor_msgs/PointCloud2   \n",
      "3                 /kiss/keypoints                   sensor_msgs/PointCloud2   \n",
      "4                 /kiss/local_map                   sensor_msgs/PointCloud2   \n",
      "..                            ...                                       ...   \n",
      "71    /septentrio_gnss/twist_gnss  geometry_msgs/TwistWithCovarianceStamped   \n",
      "72     /septentrio_gnss/twist_ins  geometry_msgs/TwistWithCovarianceStamped   \n",
      "73  /synchronized_cloud_with_pose                   sensor_msgs/PointCloud2   \n",
      "74                            /tf                        tf2_msgs/TFMessage   \n",
      "75                     /tf_static                        tf2_msgs/TFMessage   \n",
      "\n",
      "    Message Count    Frequency  \n",
      "0              35     0.500345  \n",
      "1             627     9.999878  \n",
      "2             267     6.217404  \n",
      "3             267     6.211676  \n",
      "4             267     6.184633  \n",
      "..            ...          ...  \n",
      "71            125     2.000858  \n",
      "72           6273   100.368614  \n",
      "73            133     2.342505  \n",
      "74           1254   117.431587  \n",
      "75             11  1515.283237  \n",
      "\n",
      "[76 rows x 4 columns]\n"
     ]
    }
   ],
   "source": [
    "import bagpy\n",
    "from bagpy import bagreader\n",
    "import numpy as np\n",
    "import pandas as pd\n",
    "\n",
    "# Read the bag file\n",
    "bag = bagreader(r\"/media/kevin/X9 Pro/484_final_project/rosbags/2024-11-29-16-45-01-kiss.bag\")\n",
    "\n",
    "# Get list of topics\n",
    "print(bag.topic_table)\n",
    "\n",
    "# Read point cloud messages\n",
    "pointcloud_msgs = bag.message_by_topic('/synchronized_cloud_with_pose')  # adjust topic name as needed\n",
    "df_pointcloud = pd.read_csv(pointcloud_msgs)"
   ]
  },
  {
   "cell_type": "code",
   "execution_count": 2,
   "metadata": {},
   "outputs": [
    {
     "name": "stdout",
     "output_type": "stream",
     "text": [
      "Collecting bagpy\n",
      "  Downloading bagpy-0.5-py2.py3-none-any.whl.metadata (4.3 kB)\n",
      "Requirement already satisfied: numpy in /home/kevin/anaconda3/envs/pointcept/lib/python3.8/site-packages (from bagpy) (1.24.3)\n",
      "Collecting pyserial (from bagpy)\n",
      "  Downloading pyserial-3.5-py2.py3-none-any.whl.metadata (1.6 kB)\n",
      "Collecting bitstring (from bagpy)\n",
      "  Downloading bitstring-4.2.3-py3-none-any.whl.metadata (5.0 kB)\n",
      "Collecting pycryptodomex (from bagpy)\n",
      "  Downloading pycryptodomex-3.21.0-cp36-abi3-manylinux_2_17_x86_64.manylinux2014_x86_64.whl.metadata (3.4 kB)\n",
      "Requirement already satisfied: pyyaml in /home/kevin/anaconda3/envs/pointcept/lib/python3.8/site-packages (from bagpy) (6.0.2)\n",
      "Requirement already satisfied: rospkg in /home/kevin/anaconda3/envs/pointcept/lib/python3.8/site-packages (from bagpy) (1.5.1)\n",
      "Requirement already satisfied: ipython in /home/kevin/anaconda3/envs/pointcept/lib/python3.8/site-packages (from bagpy) (8.12.2)\n",
      "Collecting py3rosmsgs (from bagpy)\n",
      "  Downloading py3rosmsgs-1.18.2-py2.py3-none-any.whl.metadata (987 bytes)\n",
      "Collecting jinja2<3.1 (from bagpy)\n",
      "  Downloading Jinja2-3.0.3-py3-none-any.whl.metadata (3.5 kB)\n",
      "Collecting pytest (from bagpy)\n",
      "  Downloading pytest-8.3.3-py3-none-any.whl.metadata (7.5 kB)\n",
      "Collecting pandas (from bagpy)\n",
      "  Downloading pandas-2.0.3-cp38-cp38-manylinux_2_17_x86_64.manylinux2014_x86_64.whl.metadata (18 kB)\n",
      "Collecting setuptools-scm (from bagpy)\n",
      "  Downloading setuptools_scm-8.1.0-py3-none-any.whl.metadata (6.6 kB)\n",
      "Requirement already satisfied: importlib-resources in /home/kevin/anaconda3/envs/pointcept/lib/python3.8/site-packages/setuptools/_vendor (from bagpy) (6.4.0)\n",
      "Requirement already satisfied: matplotlib in /home/kevin/anaconda3/envs/pointcept/lib/python3.8/site-packages (from bagpy) (3.7.5)\n",
      "Collecting seaborn>=0.9.0 (from bagpy)\n",
      "  Downloading seaborn-0.13.2-py3-none-any.whl.metadata (5.4 kB)\n",
      "Requirement already satisfied: MarkupSafe>=2.0 in /home/kevin/anaconda3/envs/pointcept/lib/python3.8/site-packages (from jinja2<3.1->bagpy) (2.1.3)\n",
      "Requirement already satisfied: contourpy>=1.0.1 in /home/kevin/anaconda3/envs/pointcept/lib/python3.8/site-packages (from matplotlib->bagpy) (1.1.1)\n",
      "Requirement already satisfied: cycler>=0.10 in /home/kevin/anaconda3/envs/pointcept/lib/python3.8/site-packages (from matplotlib->bagpy) (0.12.1)\n",
      "Requirement already satisfied: fonttools>=4.22.0 in /home/kevin/anaconda3/envs/pointcept/lib/python3.8/site-packages (from matplotlib->bagpy) (4.55.0)\n",
      "Requirement already satisfied: kiwisolver>=1.0.1 in /home/kevin/anaconda3/envs/pointcept/lib/python3.8/site-packages (from matplotlib->bagpy) (1.4.7)\n",
      "Requirement already satisfied: packaging>=20.0 in /home/kevin/anaconda3/envs/pointcept/lib/python3.8/site-packages (from matplotlib->bagpy) (24.2)\n",
      "Requirement already satisfied: pillow>=6.2.0 in /home/kevin/anaconda3/envs/pointcept/lib/python3.8/site-packages (from matplotlib->bagpy) (10.4.0)\n",
      "Requirement already satisfied: pyparsing>=2.3.1 in /home/kevin/anaconda3/envs/pointcept/lib/python3.8/site-packages (from matplotlib->bagpy) (3.1.4)\n",
      "Requirement already satisfied: python-dateutil>=2.7 in /home/kevin/anaconda3/envs/pointcept/lib/python3.8/site-packages (from matplotlib->bagpy) (2.9.0)\n",
      "Requirement already satisfied: zipp>=3.1.0 in /home/kevin/anaconda3/envs/pointcept/lib/python3.8/site-packages (from importlib-resources->bagpy) (3.21.0)\n",
      "Collecting pytz>=2020.1 (from pandas->bagpy)\n",
      "  Downloading pytz-2024.2-py2.py3-none-any.whl.metadata (22 kB)\n",
      "Collecting tzdata>=2022.1 (from pandas->bagpy)\n",
      "  Downloading tzdata-2024.2-py2.py3-none-any.whl.metadata (1.4 kB)\n",
      "Collecting bitarray<3.0.0,>=2.9.0 (from bitstring->bagpy)\n",
      "  Downloading bitarray-2.9.3-cp38-cp38-manylinux_2_17_x86_64.manylinux2014_x86_64.whl.metadata (34 kB)\n",
      "Requirement already satisfied: backcall in /home/kevin/anaconda3/envs/pointcept/lib/python3.8/site-packages (from ipython->bagpy) (0.2.0)\n",
      "Requirement already satisfied: decorator in /home/kevin/anaconda3/envs/pointcept/lib/python3.8/site-packages (from ipython->bagpy) (5.1.1)\n",
      "Requirement already satisfied: jedi>=0.16 in /home/kevin/anaconda3/envs/pointcept/lib/python3.8/site-packages (from ipython->bagpy) (0.19.1)\n",
      "Requirement already satisfied: matplotlib-inline in /home/kevin/anaconda3/envs/pointcept/lib/python3.8/site-packages (from ipython->bagpy) (0.1.7)\n",
      "Requirement already satisfied: pickleshare in /home/kevin/anaconda3/envs/pointcept/lib/python3.8/site-packages (from ipython->bagpy) (0.7.5)\n",
      "Requirement already satisfied: prompt-toolkit!=3.0.37,<3.1.0,>=3.0.30 in /home/kevin/anaconda3/envs/pointcept/lib/python3.8/site-packages (from ipython->bagpy) (3.0.48)\n",
      "Requirement already satisfied: pygments>=2.4.0 in /home/kevin/anaconda3/envs/pointcept/lib/python3.8/site-packages (from ipython->bagpy) (2.18.0)\n",
      "Requirement already satisfied: stack-data in /home/kevin/anaconda3/envs/pointcept/lib/python3.8/site-packages (from ipython->bagpy) (0.6.2)\n",
      "Requirement already satisfied: traitlets>=5 in /home/kevin/anaconda3/envs/pointcept/lib/python3.8/site-packages (from ipython->bagpy) (5.14.3)\n",
      "Requirement already satisfied: typing-extensions in /home/kevin/anaconda3/envs/pointcept/lib/python3.8/site-packages (from ipython->bagpy) (4.11.0)\n",
      "Requirement already satisfied: pexpect>4.3 in /home/kevin/anaconda3/envs/pointcept/lib/python3.8/site-packages (from ipython->bagpy) (4.9.0)\n",
      "Collecting gnupg (from py3rosmsgs->bagpy)\n",
      "  Downloading gnupg-2.3.1.tar.gz (100 kB)\n",
      "  Preparing metadata (setup.py) ... \u001b[?25ldone\n",
      "\u001b[?25hCollecting iniconfig (from pytest->bagpy)\n",
      "  Downloading iniconfig-2.0.0-py3-none-any.whl.metadata (2.6 kB)\n",
      "Collecting pluggy<2,>=1.5 (from pytest->bagpy)\n",
      "  Downloading pluggy-1.5.0-py3-none-any.whl.metadata (4.8 kB)\n",
      "Collecting exceptiongroup>=1.0.0rc8 (from pytest->bagpy)\n",
      "  Downloading exceptiongroup-1.2.2-py3-none-any.whl.metadata (6.6 kB)\n",
      "Requirement already satisfied: tomli>=1 in /home/kevin/anaconda3/envs/pointcept/lib/python3.8/site-packages (from pytest->bagpy) (2.0.2)\n",
      "Requirement already satisfied: catkin-pkg in /home/kevin/anaconda3/envs/pointcept/lib/python3.8/site-packages (from rospkg->bagpy) (1.0.0)\n",
      "Requirement already satisfied: distro>=1.4.0 in /home/kevin/anaconda3/envs/pointcept/lib/python3.8/site-packages (from rospkg->bagpy) (1.9.0)\n",
      "Requirement already satisfied: setuptools in /home/kevin/anaconda3/envs/pointcept/lib/python3.8/site-packages (from setuptools-scm->bagpy) (75.1.0)\n",
      "Requirement already satisfied: parso<0.9.0,>=0.8.3 in /home/kevin/anaconda3/envs/pointcept/lib/python3.8/site-packages (from jedi>=0.16->ipython->bagpy) (0.8.4)\n",
      "Requirement already satisfied: ptyprocess>=0.5 in /home/kevin/anaconda3/envs/pointcept/lib/python3.8/site-packages (from pexpect>4.3->ipython->bagpy) (0.7.0)\n",
      "Requirement already satisfied: wcwidth in /home/kevin/anaconda3/envs/pointcept/lib/python3.8/site-packages (from prompt-toolkit!=3.0.37,<3.1.0,>=3.0.30->ipython->bagpy) (0.2.13)\n",
      "Requirement already satisfied: six>=1.5 in /home/kevin/anaconda3/envs/pointcept/lib/python3.8/site-packages (from python-dateutil>=2.7->matplotlib->bagpy) (1.16.0)\n",
      "Requirement already satisfied: docutils in /home/kevin/anaconda3/envs/pointcept/lib/python3.8/site-packages (from catkin-pkg->rospkg->bagpy) (0.20.1)\n",
      "Requirement already satisfied: psutil>=1.2.1 in /home/kevin/anaconda3/envs/pointcept/lib/python3.8/site-packages (from gnupg->py3rosmsgs->bagpy) (6.0.0)\n",
      "Requirement already satisfied: executing>=1.2.0 in /home/kevin/anaconda3/envs/pointcept/lib/python3.8/site-packages (from stack-data->ipython->bagpy) (2.1.0)\n",
      "Requirement already satisfied: asttokens>=2.1.0 in /home/kevin/anaconda3/envs/pointcept/lib/python3.8/site-packages (from stack-data->ipython->bagpy) (2.4.1)\n",
      "Requirement already satisfied: pure-eval in /home/kevin/anaconda3/envs/pointcept/lib/python3.8/site-packages (from stack-data->ipython->bagpy) (0.2.3)\n",
      "Downloading bagpy-0.5-py2.py3-none-any.whl (14 kB)\n",
      "Downloading Jinja2-3.0.3-py3-none-any.whl (133 kB)\n",
      "Downloading seaborn-0.13.2-py3-none-any.whl (294 kB)\n",
      "Downloading pandas-2.0.3-cp38-cp38-manylinux_2_17_x86_64.manylinux2014_x86_64.whl (12.4 MB)\n",
      "\u001b[2K   \u001b[90m━━━━━━━━━━━━━━━━━━━━━━━━━━━━━━━━━━━━━━━━\u001b[0m \u001b[32m12.4/12.4 MB\u001b[0m \u001b[31m11.4 MB/s\u001b[0m eta \u001b[36m0:00:00\u001b[0ma \u001b[36m0:00:01\u001b[0m\n",
      "\u001b[?25hDownloading bitstring-4.2.3-py3-none-any.whl (71 kB)\n",
      "Downloading py3rosmsgs-1.18.2-py2.py3-none-any.whl (1.1 MB)\n",
      "\u001b[2K   \u001b[90m━━━━━━━━━━━━━━━━━━━━━━━━━━━━━━━━━━━━━━━━\u001b[0m \u001b[32m1.1/1.1 MB\u001b[0m \u001b[31m9.7 MB/s\u001b[0m eta \u001b[36m0:00:00\u001b[0m\n",
      "\u001b[?25hDownloading pycryptodomex-3.21.0-cp36-abi3-manylinux_2_17_x86_64.manylinux2014_x86_64.whl (2.3 MB)\n",
      "\u001b[2K   \u001b[90m━━━━━━━━━━━━━━━━━━━━━━━━━━━━━━━━━━━━━━━━\u001b[0m \u001b[32m2.3/2.3 MB\u001b[0m \u001b[31m10.7 MB/s\u001b[0m eta \u001b[36m0:00:00\u001b[0ma \u001b[36m0:00:01\u001b[0m\n",
      "\u001b[?25hDownloading pyserial-3.5-py2.py3-none-any.whl (90 kB)\n",
      "Downloading pytest-8.3.3-py3-none-any.whl (342 kB)\n",
      "Downloading setuptools_scm-8.1.0-py3-none-any.whl (43 kB)\n",
      "Downloading bitarray-2.9.3-cp38-cp38-manylinux_2_17_x86_64.manylinux2014_x86_64.whl (288 kB)\n",
      "Downloading exceptiongroup-1.2.2-py3-none-any.whl (16 kB)\n",
      "Downloading pluggy-1.5.0-py3-none-any.whl (20 kB)\n",
      "Downloading pytz-2024.2-py2.py3-none-any.whl (508 kB)\n",
      "Downloading tzdata-2024.2-py2.py3-none-any.whl (346 kB)\n",
      "Downloading iniconfig-2.0.0-py3-none-any.whl (5.9 kB)\n",
      "Building wheels for collected packages: gnupg\n",
      "  Building wheel for gnupg (setup.py) ... \u001b[?25ldone\n",
      "\u001b[?25h  Created wheel for gnupg: filename=gnupg-2.3.1-py3-none-any.whl size=94617 sha256=85b50d86509683930a8faf806ac904faf5030ee394e03568c574f3aa3efb61c8\n",
      "  Stored in directory: /home/kevin/.cache/pip/wheels/26/3f/50/9d97272d89c993d4c347b425fd105fc899a447cb104ac4d63c\n",
      "Successfully built gnupg\n",
      "Installing collected packages: pytz, pyserial, bitarray, tzdata, setuptools-scm, pycryptodomex, pluggy, jinja2, iniconfig, gnupg, exceptiongroup, bitstring, pytest, py3rosmsgs, pandas, seaborn, bagpy\n",
      "  Attempting uninstall: jinja2\n",
      "    Found existing installation: Jinja2 3.1.4\n",
      "    Uninstalling Jinja2-3.1.4:\n",
      "      Successfully uninstalled Jinja2-3.1.4\n",
      "\u001b[31mERROR: pip's dependency resolver does not currently take into account all the packages that are installed. This behaviour is the source of the following dependency conflicts.\n",
      "triton 2.0.0 requires cmake, which is not installed.\n",
      "triton 2.0.0 requires lit, which is not installed.\u001b[0m\u001b[31m\n",
      "\u001b[0mSuccessfully installed bagpy-0.5 bitarray-2.9.3 bitstring-4.2.3 exceptiongroup-1.2.2 gnupg-2.3.1 iniconfig-2.0.0 jinja2-3.0.3 pandas-2.0.3 pluggy-1.5.0 py3rosmsgs-1.18.2 pycryptodomex-3.21.0 pyserial-3.5 pytest-8.3.3 pytz-2024.2 seaborn-0.13.2 setuptools-scm-8.1.0 tzdata-2024.2\n"
     ]
    }
   ],
   "source": [
    "!pip3 install bagpy"
   ]
  },
  {
   "cell_type": "code",
   "execution_count": 9,
   "metadata": {},
   "outputs": [],
   "source": [
    "def parse_ouster_frame(row):\n",
    "    # Get binary data\n",
    "    binary_data = eval(row['data'])  # Convert string representation to bytes\n",
    "    \n",
    "    # Get dimensions\n",
    "    width = row['width']\n",
    "    height = row['height']\n",
    "    point_step = row['point_step']\n",
    "    \n",
    "    # Parse to float32 array\n",
    "    points = np.frombuffer(binary_data, dtype=np.float32)\n",
    "    \n",
    "    \n",
    "    # Each point has 12 float32 values (48 bytes / 4 bytes per float32 = 12)\n",
    "    # Typically: x, y, z, intensity, t, reflectivity, ring, noise, range\n",
    "    points = points.reshape(-1, 4)\n",
    "    \n",
    "    # Get just x, y, z, intensity\n",
    "    xyz_intensity = points\n",
    "    \n",
    "    # Reshape to original lidar structure if needed\n",
    "    # xyz_intensity = xyz_intensity.reshape(height, width, 12)\n",
    "    \n",
    "    return xyz_intensity"
   ]
  },
  {
   "cell_type": "code",
   "execution_count": 6,
   "metadata": {},
   "outputs": [
    {
     "name": "stdout",
     "output_type": "stream",
     "text": [
      "             Time  header.seq  header.stamp.secs  header.stamp.nsecs  \\\n",
      "0    1.732920e+09         194         1732920299           895498407   \n",
      "1    1.732920e+09         195         1732920300           195521450   \n",
      "2    1.732920e+09         196         1732920300           495606954   \n",
      "3    1.732920e+09         197         1732920300           795497254   \n",
      "4    1.732920e+09         198         1732920301            95521054   \n",
      "..            ...         ...                ...                 ...   \n",
      "128  1.732920e+09         322         1732920360           195527480   \n",
      "129  1.732920e+09         323         1732920360           695483055   \n",
      "130  1.732920e+09         324         1732920360           995531351   \n",
      "131  1.732920e+09         325         1732920361           295636624   \n",
      "132  1.732920e+09         326         1732920361           495551590   \n",
      "\n",
      "    header.frame_id  height  width  \\\n",
      "0         os_sensor       1  49152   \n",
      "1         os_sensor       1  49152   \n",
      "2         os_sensor       1  49152   \n",
      "3         os_sensor       1  49152   \n",
      "4         os_sensor       1  49152   \n",
      "..              ...     ...    ...   \n",
      "128       os_sensor       1  49152   \n",
      "129       os_sensor       1  49152   \n",
      "130       os_sensor       1  49152   \n",
      "131       os_sensor       1  49152   \n",
      "132       os_sensor       1  49152   \n",
      "\n",
      "                                                fields  is_bigendian  \\\n",
      "0    [name: \"x\"\\noffset: 0\\ndatatype: 7\\ncount: 1, ...         False   \n",
      "1    [name: \"x\"\\noffset: 0\\ndatatype: 7\\ncount: 1, ...         False   \n",
      "2    [name: \"x\"\\noffset: 0\\ndatatype: 7\\ncount: 1, ...         False   \n",
      "3    [name: \"x\"\\noffset: 0\\ndatatype: 7\\ncount: 1, ...         False   \n",
      "4    [name: \"x\"\\noffset: 0\\ndatatype: 7\\ncount: 1, ...         False   \n",
      "..                                                 ...           ...   \n",
      "128  [name: \"x\"\\noffset: 0\\ndatatype: 7\\ncount: 1, ...         False   \n",
      "129  [name: \"x\"\\noffset: 0\\ndatatype: 7\\ncount: 1, ...         False   \n",
      "130  [name: \"x\"\\noffset: 0\\ndatatype: 7\\ncount: 1, ...         False   \n",
      "131  [name: \"x\"\\noffset: 0\\ndatatype: 7\\ncount: 1, ...         False   \n",
      "132  [name: \"x\"\\noffset: 0\\ndatatype: 7\\ncount: 1, ...         False   \n",
      "\n",
      "     point_step  row_step                                               data  \\\n",
      "0            16    786432  b',x\\xc4\\xc1\\x18\\xff\\x98\\xc0\\xed\\x80=\\xc0\\x00\\...   \n",
      "1            16    786432  b'5\\x8b\\xc1\\xc1\\xd9T\\xa8\\xc0\\x9d\\xe8=\\xc0\\x00\\...   \n",
      "2            16    786432  b'\\xffe\\x98\\xc1\\x95x\\x91\\xc0\\xf0V\\x1c\\xc0\\x00\\...   \n",
      "3            16    786432  b'\\x8c\\xbf\\xbb\\xc1\\xc4\\xc3\\xb8\\xc0I\\xa4=\\xc0\\x...   \n",
      "4            16    786432  b'\\xcb\\xe9\\xba\\xc1\\x8be\\xbd\\xc0\\xbeZ>\\xc0\\x00\\...   \n",
      "..          ...       ...                                                ...   \n",
      "128          16    786432  b'\\x13\\x95\\xcfA\\x81\\x02\\xe5A\\x13\\xe3\\xb5\\xbf\\x...   \n",
      "129          16    786432  b'K\\xfd\\xd2A\\xf12\\xecA\\x06\"\\xb7\\xbf\\x00\\x00\\xa...   \n",
      "130          16    786432  b'\\xf0L\\xd4A\\xd5\\xd1\\xf1A} \\xb7\\xbf\\x00\\x00\\xa...   \n",
      "131          16    786432  b'\\xc0j\\xd5A\\x85\\xeb\\xf6A\\xc7\\xd2\\xb3\\xbf\\x00\\...   \n",
      "132          16    786432  b'\\xd6\\x86\\xd4A\\x91#\\xf7A3\\x14\\xbb\\xbf\\x00\\x00...   \n",
      "\n",
      "     is_dense  \n",
      "0       False  \n",
      "1       False  \n",
      "2       False  \n",
      "3       False  \n",
      "4       False  \n",
      "..        ...  \n",
      "128     False  \n",
      "129     False  \n",
      "130     False  \n",
      "131     False  \n",
      "132     False  \n",
      "\n",
      "[133 rows x 13 columns]\n"
     ]
    }
   ],
   "source": [
    "print(df_pointcloud)"
   ]
  },
  {
   "cell_type": "code",
   "execution_count": 10,
   "metadata": {},
   "outputs": [],
   "source": [
    "# Process all frames\n",
    "frames = []\n",
    "timestamps = []\n",
    "\n",
    "for idx, row in df_pointcloud.iterrows():\n",
    "    frame = parse_ouster_frame(row)\n",
    "    frames.append(frame)\n",
    "    timestamps.append(row['Time'])\n",
    "\n",
    "# Convert to numpy array\n",
    "point_cloud_array = np.array(frames)\n",
    "timestamps = np.array(timestamps)"
   ]
  },
  {
   "cell_type": "code",
   "execution_count": 15,
   "metadata": {},
   "outputs": [
    {
     "name": "stdout",
     "output_type": "stream",
     "text": [
      "(49152, 4)\n",
      "[-24.558678  -24.566994  -24.563416  ...  -2.2909186  -2.297761\n",
      "  -2.2998097]\n",
      "[-4.7811394 -4.6024756 -4.4219904 ... -0.6379234 -0.6003195 -0.5617764]\n",
      "[-2.960994  -2.9584274 -2.9546835 ... -2.319991  -2.3196476 -2.3174653]\n",
      "[ 80.  80.  80. ... 127. 127. 127.]\n"
     ]
    }
   ],
   "source": [
    "point_cloud_array.shape\n",
    "first_frame = point_cloud_array[0]\n",
    "print(first_frame.shape)\n",
    "x = first_frame[:, 0]  # x coordinates\n",
    "y = first_frame[:, 1]  # y coordinates\n",
    "z = first_frame[:, 2]  # z coordinates\n",
    "intensity = first_frame[:, 3]  # intensity values\n",
    "print(x)\n",
    "print(y)\n",
    "print(z)\n",
    "print(intensity)"
   ]
  },
  {
   "cell_type": "code",
   "execution_count": 16,
   "metadata": {},
   "outputs": [
    {
     "data": {
      "text/plain": [
       "(133, 49152, 4)"
      ]
     },
     "execution_count": 16,
     "metadata": {},
     "output_type": "execute_result"
    }
   ],
   "source": [
    "point_cloud_array.shape"
   ]
  },
  {
   "cell_type": "code",
   "execution_count": 18,
   "metadata": {},
   "outputs": [
    {
     "name": "stdout",
     "output_type": "stream",
     "text": [
      "(133, 49152, 4)\n"
     ]
    }
   ],
   "source": [
    "flattened_array = point_cloud_array.reshape(133, 49152, 4)\n",
    "print(flattened_array.shape)\n",
    "np.save('all_points.npy', flattened_array)"
   ]
  },
  {
   "cell_type": "code",
   "execution_count": null,
   "metadata": {},
   "outputs": [],
   "source": []
  }
 ],
 "metadata": {
  "kernelspec": {
   "display_name": "pointcept",
   "language": "python",
   "name": "python3"
  },
  "language_info": {
   "codemirror_mode": {
    "name": "ipython",
    "version": 3
   },
   "file_extension": ".py",
   "mimetype": "text/x-python",
   "name": "python",
   "nbconvert_exporter": "python",
   "pygments_lexer": "ipython3",
   "version": "3.8.20"
  }
 },
 "nbformat": 4,
 "nbformat_minor": 2
}
